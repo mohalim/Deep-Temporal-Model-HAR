{
 "cells": [
  {
   "cell_type": "code",
   "execution_count": 1,
   "id": "aca4104b",
   "metadata": {},
   "outputs": [],
   "source": [
    "import numpy as np\n",
    "import pandas as pd\n",
    "from scipy.stats import t\n",
    "%config Completer.use_jedi=False"
   ]
  },
  {
   "cell_type": "code",
   "execution_count": 2,
   "id": "d929c2b6",
   "metadata": {},
   "outputs": [],
   "source": [
    "# Two sample independent t-test\n",
    "def two_sample_t(a, b, mu=0, var_equal=True, alternative='two-sided'):\n",
    "    n_a = len(a)\n",
    "    n_b = len(b)\n",
    "    df = (n_a+n_b-2)\n",
    "    mu_a = np.mean(a)\n",
    "    mu_b = np.mean(b)\n",
    "    var_a = np.var(a, ddof=1)\n",
    "    var_b = np.var(b, ddof=1)\n",
    "    if var_equal:\n",
    "        sp = ((n_a - 1)*var_a + (n_b - 1)*var_b) / df\n",
    "        denom = np.sqrt(sp/n_a + sp/n_b)\n",
    "    else:\n",
    "        denom = np.sqrt(var_a/n_a + var_b/n_b)\n",
    "    numer = (mu_a - mu_b - mu)\n",
    "    #print(numer)\n",
    "    #print(denom)\n",
    "    t_value = numer /denom\n",
    "    \n",
    "    if alternative == 'two-sided':\n",
    "        sig_level = 0.05/2\n",
    "        if t_value > 0:\n",
    "            t_c = -t.ppf(sig_level, df)\n",
    "            p_value = t.cdf(-t_value, df)\n",
    "        else:\n",
    "            t_c = t.ppf(sig_level, df)\n",
    "            p_value = t.cdf(t_value, df)\n",
    "        \n",
    "    elif alternative == 'less':\n",
    "        sig_level = 0.05\n",
    "        t_c = t.ppf(sig_level, df)\n",
    "        #p_value = t.cdf(t_value, df)\n",
    "        if t_value > 0:\n",
    "            t_c = t.ppf(sig_level, df)\n",
    "        else:\n",
    "            t_c = t.ppf(sig_level, df)\n",
    "        p_value = t.cdf(t_value, df)\n",
    "        \n",
    "    elif alternative == 'greater':\n",
    "        sig_level = 0.05\n",
    "        if t_value > 0:\n",
    "            t_c = -t.ppf(sig_level, df)\n",
    "        else:\n",
    "            t_c = -t.ppf(sig_level, df)\n",
    "        p_value = t.cdf(-t_value, df)\n",
    "    \n",
    "    print(f't = {t_value:.5f}, df = {df}, p-value = {p_value:.5f}')\n",
    "    print(f'mu of x = {mu_a:.5f}, mu of y = {mu_b:.5f}, sd of x = {var_a:.5f}, sd of y = {var_b:.5f}')\n",
    "    \n",
    "    return t_value, t_c, p_value"
   ]
  },
  {
   "cell_type": "code",
   "execution_count": 3,
   "id": "cbd99b5b",
   "metadata": {},
   "outputs": [],
   "source": [
    "benchmark = pd.read_csv('benchmark_model_accuracies.csv', header=None).values"
   ]
  },
  {
   "cell_type": "code",
   "execution_count": 4,
   "id": "723ffae9",
   "metadata": {},
   "outputs": [],
   "source": [
    "proposed = pd.read_csv('proposed_model_accuracies.csv', header=None).values"
   ]
  },
  {
   "cell_type": "code",
   "execution_count": 5,
   "id": "769ad015",
   "metadata": {},
   "outputs": [
    {
     "name": "stdout",
     "output_type": "stream",
     "text": [
      "t = 2.19471, df = 58, p-value = 0.01610\n",
      "mu of x = 0.89495, mu of y = 0.88934, sd of x = 0.00009, sd of y = 0.00010\n"
     ]
    }
   ],
   "source": [
    "t_value, t_c, p_value = two_sample_t(proposed, benchmark, var_equal=False)"
   ]
  },
  {
   "cell_type": "code",
   "execution_count": 6,
   "id": "f111c86c",
   "metadata": {},
   "outputs": [
    {
     "name": "stdout",
     "output_type": "stream",
     "text": [
      "t = 0.23864, df = 58, p-value = 0.59389\n",
      "mu of x = 0.89495, mu of y = 0.88934, sd of x = 0.00009, sd of y = 0.00010\n"
     ]
    }
   ],
   "source": [
    "t_value, t_c, p_value = two_sample_t(proposed, benchmark, mu=0.005, var_equal=False, alternative=\"less\")"
   ]
  },
  {
   "cell_type": "code",
   "execution_count": 7,
   "id": "4e5ef7a1",
   "metadata": {},
   "outputs": [
    {
     "name": "stdout",
     "output_type": "stream",
     "text": [
      "t = -0.54379, df = 58, p-value = 0.29434\n",
      "mu of x = 0.89495, mu of y = 0.88934, sd of x = 0.00009, sd of y = 0.00010\n"
     ]
    }
   ],
   "source": [
    "t_value, t_c, p_value = two_sample_t(proposed, benchmark, mu=0.007, var_equal=False, alternative=\"less\")"
   ]
  },
  {
   "cell_type": "code",
   "execution_count": 8,
   "id": "921b76ba",
   "metadata": {},
   "outputs": [
    {
     "name": "stdout",
     "output_type": "stream",
     "text": [
      "t = -1.32622, df = 58, p-value = 0.09498\n",
      "mu of x = 0.89495, mu of y = 0.88934, sd of x = 0.00009, sd of y = 0.00010\n"
     ]
    }
   ],
   "source": [
    "t_value, t_c, p_value = two_sample_t(proposed, benchmark, mu=0.009, var_equal=False, alternative=\"less\")"
   ]
  },
  {
   "cell_type": "code",
   "execution_count": 9,
   "id": "cb95f182",
   "metadata": {},
   "outputs": [
    {
     "name": "stdout",
     "output_type": "stream",
     "text": [
      "t = -1.52182, df = 58, p-value = 0.06674\n",
      "mu of x = 0.89495, mu of y = 0.88934, sd of x = 0.00009, sd of y = 0.00010\n"
     ]
    }
   ],
   "source": [
    "t_value, t_c, p_value = two_sample_t(proposed, benchmark, mu=0.0095, var_equal=False, alternative=\"less\")"
   ]
  }
 ],
 "metadata": {
  "kernelspec": {
   "display_name": "Python 3 (ipykernel)",
   "language": "python",
   "name": "python3"
  },
  "language_info": {
   "codemirror_mode": {
    "name": "ipython",
    "version": 3
   },
   "file_extension": ".py",
   "mimetype": "text/x-python",
   "name": "python",
   "nbconvert_exporter": "python",
   "pygments_lexer": "ipython3",
   "version": "3.9.6"
  }
 },
 "nbformat": 4,
 "nbformat_minor": 5
}
